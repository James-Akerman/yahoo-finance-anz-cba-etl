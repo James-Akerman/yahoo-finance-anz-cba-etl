{
 "cells": [
  {
   "cell_type": "markdown",
   "id": "d5dda1b6",
   "metadata": {},
   "source": [
    "## Setup"
   ]
  },
  {
   "cell_type": "code",
   "execution_count": 1,
   "id": "8a7475a8",
   "metadata": {},
   "outputs": [],
   "source": [
    "# Import Libraries\n",
    "import time\n",
    "from datetime import datetime\n",
    "from splinter import Browser\n",
    "from bs4 import BeautifulSoup as bs\n",
    "from selenium import webdriver\n",
    "from webdriver_manager.chrome import ChromeDriverManager\n",
    "import pandas as pd\n",
    "import pymongo"
   ]
  },
  {
   "cell_type": "markdown",
   "id": "4ae10fc2",
   "metadata": {},
   "source": [
    "## Delete collection before inserting new data"
   ]
  },
  {
   "cell_type": "code",
   "execution_count": 2,
   "id": "2d6d676b",
   "metadata": {},
   "outputs": [],
   "source": [
    "conn = 'mongodb://localhost:27017'\n",
    "client = pymongo.MongoClient(conn)\n",
    "client.BigFour_db.cash_flow.drop()"
   ]
  },
  {
   "cell_type": "markdown",
   "id": "003ad4ff",
   "metadata": {},
   "source": [
    "## CBA"
   ]
  },
  {
   "cell_type": "markdown",
   "id": "355c35a0",
   "metadata": {},
   "source": [
    "#### Extract"
   ]
  },
  {
   "cell_type": "code",
   "execution_count": null,
   "id": "0422b878",
   "metadata": {},
   "outputs": [],
   "source": [
    "# Get the current time in unixtime format\n",
    "d = datetime.today()\n",
    "unixtime = time.mktime(d.timetuple())\n",
    "starting_date = round(time.mktime(datetime.strptime(\"30/06/2017\", \"%d/%m/%Y\").timetuple()))\n",
    "current_time = round(unixtime)\n",
    "\n",
    "user = 'James'\n",
    "\n",
    "# Change the download directory\n",
    "chromeOptions = webdriver.ChromeOptions()\n",
    "prefs = {\"download.default_directory\" : f\"C:\\\\Users\\\\{user}\\\\Desktop\\\\source\"}\n",
    "chromeOptions.add_experimental_option(\"prefs\",prefs)\n",
    "driver = webdriver.Chrome(executable_path=ChromeDriverManager().install(), options=chromeOptions)\n",
    "\n",
    "# Get the CSV file\n",
    "url = f'https://query1.finance.yahoo.com/v7/finance/download/CBA.AX?period1={starting_date}&period2={current_time}&interval=1d&events=history&includeAdjustedClose=true'\n",
    "driver.get(url)\n",
    "\n",
    "time.sleep(1)\n",
    "\n",
    "# Quit the browser\n",
    "browser.quit()"
   ]
  },
  {
   "cell_type": "markdown",
   "id": "207c8f15",
   "metadata": {},
   "source": [
    "#### Transform"
   ]
  },
  {
   "cell_type": "code",
   "execution_count": null,
   "id": "f76117e5",
   "metadata": {},
   "outputs": [],
   "source": []
  },
  {
   "cell_type": "markdown",
   "id": "84aec581",
   "metadata": {},
   "source": [
    "#### Load"
   ]
  },
  {
   "cell_type": "code",
   "execution_count": null,
   "id": "babf2b23",
   "metadata": {},
   "outputs": [],
   "source": []
  },
  {
   "cell_type": "markdown",
   "id": "fd0aaac1",
   "metadata": {},
   "source": [
    "## ANZ"
   ]
  },
  {
   "cell_type": "markdown",
   "id": "05f4e674",
   "metadata": {},
   "source": [
    "#### Extract"
   ]
  },
  {
   "cell_type": "code",
   "execution_count": null,
   "id": "0eb5f049",
   "metadata": {},
   "outputs": [],
   "source": [
    "# Get the current time in unixtime format\n",
    "d = datetime.today()\n",
    "unixtime = time.mktime(d.timetuple())\n",
    "starting_date = round(time.mktime(datetime.strptime(\"30/06/2017\", \"%d/%m/%Y\").timetuple()))\n",
    "current_time = round(unixtime)\n",
    "\n",
    "user = 'James'\n",
    "\n",
    "# Change the download directory\n",
    "chromeOptions = webdriver.ChromeOptions()\n",
    "prefs = {\"download.default_directory\" : f\"C:\\\\Users\\\\{user}\\\\Desktop\\\\source\"}\n",
    "chromeOptions.add_experimental_option(\"prefs\",prefs)\n",
    "driver = webdriver.Chrome(executable_path=ChromeDriverManager().install(), options=chromeOptions)\n",
    "\n",
    "# Get the CSV file\n",
    "url = f'https://query1.finance.yahoo.com/v7/finance/download/ANZ.AX?period1={starting_date}&period2={current_time}&interval=1d&events=history&includeAdjustedClose=true'\n",
    "driver.get(url)\n",
    "\n",
    "time.sleep(1)\n",
    "\n",
    "# Quit the browser\n",
    "browser.quit()"
   ]
  },
  {
   "cell_type": "markdown",
   "id": "772bb28f",
   "metadata": {},
   "source": [
    "#### Transform"
   ]
  },
  {
   "cell_type": "code",
   "execution_count": null,
   "id": "73d08a34",
   "metadata": {},
   "outputs": [],
   "source": []
  },
  {
   "cell_type": "markdown",
   "id": "01f79e9c",
   "metadata": {},
   "source": [
    "#### Load"
   ]
  },
  {
   "cell_type": "code",
   "execution_count": null,
   "id": "f7d00c1c",
   "metadata": {},
   "outputs": [],
   "source": []
  }
 ],
 "metadata": {
  "kernelspec": {
   "display_name": "Python 3",
   "language": "python",
   "name": "python3"
  },
  "language_info": {
   "codemirror_mode": {
    "name": "ipython",
    "version": 3
   },
   "file_extension": ".py",
   "mimetype": "text/x-python",
   "name": "python",
   "nbconvert_exporter": "python",
   "pygments_lexer": "ipython3",
   "version": "3.8.8"
  }
 },
 "nbformat": 4,
 "nbformat_minor": 5
}
