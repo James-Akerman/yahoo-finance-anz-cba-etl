{
 "cells": [
  {
   "cell_type": "markdown",
   "id": "d5dda1b6",
   "metadata": {},
   "source": [
    "## Setup"
   ]
  },
  {
   "cell_type": "code",
   "execution_count": 1,
   "id": "8a7475a8",
   "metadata": {},
   "outputs": [],
   "source": [
    "# Import Libraries\n",
    "import time\n",
    "from datetime import datetime\n",
    "from splinter import Browser\n",
    "from bs4 import BeautifulSoup as bs\n",
    "from selenium import webdriver\n",
    "from webdriver_manager.chrome import ChromeDriverManager\n",
    "import pandas as pd\n",
    "import pymongo"
   ]
  },
  {
   "cell_type": "markdown",
   "id": "4ae10fc2",
   "metadata": {},
   "source": [
    "## Delete collection before inserting new data"
   ]
  },
  {
   "cell_type": "code",
   "execution_count": 2,
   "id": "2d6d676b",
   "metadata": {},
   "outputs": [],
   "source": [
    "conn = 'mongodb://localhost:27017'\n",
    "client = pymongo.MongoClient(conn)\n",
    "client.Stocks_db.stock_history.drop()"
   ]
  },
  {
   "cell_type": "markdown",
   "id": "003ad4ff",
   "metadata": {},
   "source": [
    "## CBA"
   ]
  },
  {
   "cell_type": "markdown",
   "id": "f9425265",
   "metadata": {},
   "source": [
    "#### Extract"
   ]
  },
  {
   "cell_type": "code",
   "execution_count": 10,
   "id": "be7b6647",
   "metadata": {},
   "outputs": [
    {
     "name": "stderr",
     "output_type": "stream",
     "text": [
      "[WDM] - \n",
      "\n",
      "[WDM] - ====== WebDriver manager ======\n",
      "[WDM] - Current google-chrome version is 95.0.4638\n",
      "[WDM] - Get LATEST driver version for 95.0.4638\n",
      "[WDM] - Driver [C:\\Users\\James\\.wdm\\drivers\\chromedriver\\win32\\95.0.4638.17\\chromedriver.exe] found in cache\n"
     ]
    }
   ],
   "source": [
    "# Get the current time in unixtime format\n",
    "d = datetime.today()\n",
    "unixtime = time.mktime(d.timetuple())\n",
    "starting_date = round(time.mktime(datetime.strptime(\"01/10/1991\", \"%d/%m/%Y\").timetuple()))\n",
    "current_time = round(unixtime)\n",
    "\n",
    "user = 'James'\n",
    "\n",
    "# Change the download directory\n",
    "chromeOptions = webdriver.ChromeOptions()\n",
    "prefs = {\"download.default_directory\" : f\"C:\\\\Users\\\\{user}\\\\Desktop\\\\BCR\\\\challanges\\\\etl-project\"}\n",
    "chromeOptions.add_experimental_option(\"prefs\",prefs)\n",
    "driver = webdriver.Chrome(executable_path=ChromeDriverManager().install(), options=chromeOptions)\n",
    "\n",
    "bank = 'CBA'\n",
    "\n",
    "# Get the CSV file\n",
    "url = f'https://query1.finance.yahoo.com/v7/finance/download/{bank}.AX?period1={starting_date}&period2={current_time}&interval=1d&events=history&includeAdjustedClose=true'\n",
    "driver.get(url)\n",
    "\n",
    "time.sleep(1)\n",
    "driver.quit()"
   ]
  },
  {
   "cell_type": "markdown",
   "id": "37f24507",
   "metadata": {},
   "source": [
    "#### Transform"
   ]
  },
  {
   "cell_type": "code",
   "execution_count": 32,
   "id": "d8ed4cac",
   "metadata": {},
   "outputs": [],
   "source": [
    "df = pd.read_csv('CBA.AX.csv')\n",
    "\n",
    "# Set the index to date\n",
    "df_new = df.set_index('Date').copy()\n",
    "# Remove all the null values\n",
    "df_new = df_new.dropna()\n",
    "# Transpose\n",
    "df_new_tran = df_new.copy().T\n",
    "# Convert to a dictionary\n",
    "df_dict = df_new_tran.to_dict()"
   ]
  },
  {
   "cell_type": "markdown",
   "id": "0fce3045",
   "metadata": {},
   "source": [
    "#### Load"
   ]
  },
  {
   "cell_type": "code",
   "execution_count": 34,
   "id": "44c048ac",
   "metadata": {},
   "outputs": [
    {
     "data": {
      "text/plain": [
       "<pymongo.results.InsertOneResult at 0x15b75aed440>"
      ]
     },
     "execution_count": 34,
     "metadata": {},
     "output_type": "execute_result"
    }
   ],
   "source": [
    "# Load Into Mongodb\n",
    "conn = 'mongodb://localhost:27017'\n",
    "client = pymongo.MongoClient(conn)\n",
    "\n",
    "cba_dict = {}\n",
    "\n",
    "cba_dict[\"CBA\"] = df_dict\n",
    "\n",
    "client.Stocks_db.stock_history.insert_one(cba_dict)"
   ]
  },
  {
   "cell_type": "markdown",
   "id": "06ea4d9d",
   "metadata": {},
   "source": [
    "## ANZ"
   ]
  },
  {
   "cell_type": "markdown",
   "id": "bfc9b809",
   "metadata": {},
   "source": [
    "#### Extract"
   ]
  },
  {
   "cell_type": "code",
   "execution_count": 35,
   "id": "9d3890af",
   "metadata": {},
   "outputs": [
    {
     "name": "stderr",
     "output_type": "stream",
     "text": [
      "[WDM] - \n",
      "\n",
      "[WDM] - ====== WebDriver manager ======\n",
      "[WDM] - Current google-chrome version is 95.0.4638\n",
      "[WDM] - Get LATEST driver version for 95.0.4638\n",
      "[WDM] - Driver [C:\\Users\\James\\.wdm\\drivers\\chromedriver\\win32\\95.0.4638.17\\chromedriver.exe] found in cache\n"
     ]
    }
   ],
   "source": [
    "# Get the current time in unixtime format\n",
    "d = datetime.today()\n",
    "unixtime = time.mktime(d.timetuple())\n",
    "starting_date = round(time.mktime(datetime.strptime(\"01/10/1991\", \"%d/%m/%Y\").timetuple()))\n",
    "current_time = round(unixtime)\n",
    "\n",
    "user = 'James'\n",
    "\n",
    "# Change the download directory\n",
    "chromeOptions = webdriver.ChromeOptions()\n",
    "prefs = {\"download.default_directory\" : f\"C:\\\\Users\\\\{user}\\\\Desktop\\\\BCR\\\\challanges\\\\etl-project\"}\n",
    "chromeOptions.add_experimental_option(\"prefs\",prefs)\n",
    "driver = webdriver.Chrome(executable_path=ChromeDriverManager().install(), options=chromeOptions)\n",
    "\n",
    "bank = 'ANZ'\n",
    "\n",
    "# Get the CSV file\n",
    "url = f'https://query1.finance.yahoo.com/v7/finance/download/{bank}.AX?period1={starting_date}&period2={current_time}&interval=1d&events=history&includeAdjustedClose=true'\n",
    "driver.get(url)\n",
    "\n",
    "time.sleep(1)\n",
    "driver.quit()"
   ]
  },
  {
   "cell_type": "markdown",
   "id": "e6ba78c3",
   "metadata": {},
   "source": [
    "#### Transform"
   ]
  },
  {
   "cell_type": "code",
   "execution_count": 36,
   "id": "45b1e0a7",
   "metadata": {},
   "outputs": [],
   "source": [
    "df = pd.read_csv('ANZ.AX.csv')\n",
    "\n",
    "# Set the index to date\n",
    "df_new = df.set_index('Date').copy()\n",
    "# Remove all the null values\n",
    "df_new = df_new.dropna()\n",
    "# Transpose\n",
    "df_new_tran = df_new.copy().T\n",
    "# Convert to a dictionary\n",
    "df_dict = df_new_tran.to_dict()"
   ]
  },
  {
   "cell_type": "markdown",
   "id": "ff4a111c",
   "metadata": {},
   "source": [
    "#### Load"
   ]
  },
  {
   "cell_type": "code",
   "execution_count": 37,
   "id": "78edaece",
   "metadata": {},
   "outputs": [
    {
     "data": {
      "text/plain": [
       "<pymongo.results.InsertOneResult at 0x15b760975c0>"
      ]
     },
     "execution_count": 37,
     "metadata": {},
     "output_type": "execute_result"
    }
   ],
   "source": [
    "# Load Into Mongodb\n",
    "conn = 'mongodb://localhost:27017'\n",
    "client = pymongo.MongoClient(conn)\n",
    "\n",
    "bank_dict = {}\n",
    "\n",
    "bank_dict[\"ANZ\"] = df_dict\n",
    "\n",
    "client.Stocks_db.stock_history.insert_one(bank_dict)"
   ]
  },
  {
   "cell_type": "code",
   "execution_count": null,
   "id": "b5a8df95",
   "metadata": {},
   "outputs": [],
   "source": []
  }
 ],
 "metadata": {
  "kernelspec": {
   "display_name": "Python 3",
   "language": "python",
   "name": "python3"
  },
  "language_info": {
   "codemirror_mode": {
    "name": "ipython",
    "version": 3
   },
   "file_extension": ".py",
   "mimetype": "text/x-python",
   "name": "python",
   "nbconvert_exporter": "python",
   "pygments_lexer": "ipython3",
   "version": "3.8.8"
  }
 },
 "nbformat": 4,
 "nbformat_minor": 5
}
