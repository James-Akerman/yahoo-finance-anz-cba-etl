{
 "cells": [
  {
   "cell_type": "markdown",
   "id": "d5dda1b6",
   "metadata": {},
   "source": [
    "## Setup"
   ]
  },
  {
   "cell_type": "code",
   "execution_count": null,
   "id": "8a7475a8",
   "metadata": {},
   "outputs": [],
   "source": [
    "# Import Libraries\n",
    "import time\n",
    "from datetime import datetime\n",
    "from splinter import Browser\n",
    "from bs4 import BeautifulSoup as bs\n",
    "from selenium import webdriver\n",
    "from webdriver_manager.chrome import ChromeDriverManager\n",
    "import pandas as pd\n",
    "import pymongo"
   ]
  },
  {
   "cell_type": "markdown",
   "id": "b4b72687",
   "metadata": {},
   "source": [
    "## CBA"
   ]
  },
  {
   "cell_type": "markdown",
   "id": "68cfa098",
   "metadata": {},
   "source": [
    "#### Extract"
   ]
  },
  {
   "cell_type": "code",
   "execution_count": null,
   "id": "177dc3c5",
   "metadata": {},
   "outputs": [],
   "source": [
    "# start web browser\n",
    "browser = webdriver.Chrome(ChromeDriverManager().install())\n",
    "\n",
    "# get source code\n",
    "browser.get(\"https://au.finance.yahoo.com/quote/CBA.AX?p=CBA.AX\")\n",
    "html = browser.page_source\n",
    "time.sleep(2)\n",
    "df = pd.read_html(html)\n",
    "\n",
    "# close web browser\n",
    "browser.close()\n",
    "\n",
    "# Get each table from the table list\n",
    "summary_table_1 = df[0]\n",
    "summary_table_2 = df[1]\n",
    "# Join the tables together\n",
    "total_summary_table = summary_table_1.append(summary_table_2)\n",
    "# Rename the columns\n",
    "total_summary_table = total_summary_table.rename(columns = {0:'Summary Metric', 1:'Value'})\n",
    "# Show result\n",
    "total_summary_table"
   ]
  },
  {
   "cell_type": "code",
   "execution_count": null,
   "id": "4c2a202e",
   "metadata": {},
   "outputs": [],
   "source": []
  },
  {
   "cell_type": "markdown",
   "id": "c5a797cd",
   "metadata": {},
   "source": [
    "#### Transform"
   ]
  },
  {
   "cell_type": "code",
   "execution_count": null,
   "id": "fc664617",
   "metadata": {},
   "outputs": [],
   "source": []
  },
  {
   "cell_type": "markdown",
   "id": "88321a0e",
   "metadata": {},
   "source": [
    "#### Load"
   ]
  },
  {
   "cell_type": "code",
   "execution_count": null,
   "id": "cbd8c5a4",
   "metadata": {},
   "outputs": [],
   "source": []
  },
  {
   "cell_type": "markdown",
   "id": "783b34fc",
   "metadata": {},
   "source": [
    "## ANZ"
   ]
  },
  {
   "cell_type": "markdown",
   "id": "3163014b",
   "metadata": {},
   "source": [
    "#### Extract"
   ]
  },
  {
   "cell_type": "code",
   "execution_count": null,
   "id": "f135af6c",
   "metadata": {},
   "outputs": [],
   "source": [
    "# start web browser\n",
    "browser = webdriver.Chrome(ChromeDriverManager().install())\n",
    "\n",
    "bank = \"ANZ\"\n",
    "\n",
    "# get source code\n",
    "browser.get(f\"https://au.finance.yahoo.com/quote/{bank}.AX?p={bank}.AX\")\n",
    "html = browser.page_source\n",
    "time.sleep(2)\n",
    "df = pd.read_html(html)\n",
    "\n",
    "# close web browser\n",
    "browser.close()\n",
    "\n",
    "# Get each table from the table list\n",
    "summary_table_1 = df[0]\n",
    "summary_table_2 = df[1]\n",
    "# Join the tables together\n",
    "total_summary_table = summary_table_1.append(summary_table_2)\n",
    "# Rename the columns\n",
    "total_summary_table = total_summary_table.rename(columns = {0:'Summary Metric', 1:'Value'})\n",
    "# Show result\n",
    "total_summary_table"
   ]
  },
  {
   "cell_type": "markdown",
   "id": "003ad4ff",
   "metadata": {},
   "source": [
    " #### Transform"
   ]
  },
  {
   "cell_type": "code",
   "execution_count": null,
   "id": "25aeaa9e",
   "metadata": {},
   "outputs": [],
   "source": []
  },
  {
   "cell_type": "markdown",
   "id": "1b079398",
   "metadata": {},
   "source": [
    "#### Load"
   ]
  },
  {
   "cell_type": "code",
   "execution_count": null,
   "id": "531d83b7",
   "metadata": {},
   "outputs": [],
   "source": []
  }
 ],
 "metadata": {
  "kernelspec": {
   "display_name": "Python 3",
   "language": "python",
   "name": "python3"
  },
  "language_info": {
   "codemirror_mode": {
    "name": "ipython",
    "version": 3
   },
   "file_extension": ".py",
   "mimetype": "text/x-python",
   "name": "python",
   "nbconvert_exporter": "python",
   "pygments_lexer": "ipython3",
   "version": "3.8.8"
  }
 },
 "nbformat": 4,
 "nbformat_minor": 5
}
