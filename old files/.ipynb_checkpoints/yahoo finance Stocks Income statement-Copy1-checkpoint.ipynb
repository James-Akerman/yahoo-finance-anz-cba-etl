{
 "cells": [
  {
   "cell_type": "markdown",
   "id": "d5dda1b6",
   "metadata": {},
   "source": [
    "## Setup"
   ]
  },
  {
   "cell_type": "code",
   "execution_count": null,
   "id": "8a7475a8",
   "metadata": {},
   "outputs": [],
   "source": [
    "# Import Libraries\n",
    "import time\n",
    "from datetime import datetime\n",
    "from splinter import Browser\n",
    "from bs4 import BeautifulSoup as bs\n",
    "from selenium import webdriver\n",
    "from webdriver_manager.chrome import ChromeDriverManager\n",
    "import pandas as pd\n",
    "import pymongo"
   ]
  },
  {
   "cell_type": "markdown",
   "id": "49d86e34",
   "metadata": {},
   "source": [
    "## CBA"
   ]
  },
  {
   "cell_type": "markdown",
   "id": "7a45db42",
   "metadata": {},
   "source": [
    "#### Extract"
   ]
  },
  {
   "cell_type": "code",
   "execution_count": null,
   "id": "49899c3c",
   "metadata": {},
   "outputs": [],
   "source": [
    "# Read the tables in the HTML page\n",
    "# Scrape the Data\n",
    "executable_path = {'executable_path': ChromeDriverManager().install()}\n",
    "browser = Browser('chrome', **executable_path, headless=False)\n",
    "\n",
    "url = 'https://au.finance.yahoo.com/quote/CBA.AX/financials?p=CBA.AX'\n",
    "browser.visit(url)\n",
    "\n",
    "time.sleep(1)\n",
    "\n",
    "html = browser.html\n",
    "soup = bs(html, \"html.parser\")\n",
    "\n",
    "# Get table headers\n",
    "income_table_headers = soup.find_all('div', class_='D(tbr) C($primaryColor)')\n",
    "# Get table rows\n",
    "income_table_rows = soup.find_all('div', class_='D(tbr) fi-row Bgc($hoverBgColor):h')\n",
    "\n",
    "# Quit the browser\n",
    "browser.quit()\n",
    "\n",
    "# Get the table headers\n",
    "table_headers_list = []\n",
    "for header in income_table_headers:\n",
    "    for span in header.find_all('span'):\n",
    "        table_headers_list.append(span.text)\n",
    "\n",
    "# Get all the table rows\n",
    "table_rows = []\n",
    "row_list = []\n",
    "for rows in income_table_rows:\n",
    "    for fields in rows:\n",
    "        row_list.append(fields.text)\n",
    "    # Add row to table rows\n",
    "    table_rows.append(row_list)\n",
    "    # Reset the row list for the next row\n",
    "    row_list = []\n",
    "    \n",
    "# Convert the result into a DataFrame\n",
    "income_table = pd.DataFrame(table_rows, columns=table_headers_list)\n",
    "income_table"
   ]
  },
  {
   "cell_type": "markdown",
   "id": "d3b9165f",
   "metadata": {},
   "source": [
    "#### Transform"
   ]
  },
  {
   "cell_type": "code",
   "execution_count": null,
   "id": "d8500b49",
   "metadata": {},
   "outputs": [],
   "source": []
  },
  {
   "cell_type": "markdown",
   "id": "4954257a",
   "metadata": {},
   "source": [
    "#### Load"
   ]
  },
  {
   "cell_type": "code",
   "execution_count": null,
   "id": "3073fa09",
   "metadata": {},
   "outputs": [],
   "source": []
  },
  {
   "cell_type": "markdown",
   "id": "79c93bc6",
   "metadata": {},
   "source": [
    "## ANZ"
   ]
  },
  {
   "cell_type": "markdown",
   "id": "cd53de96",
   "metadata": {},
   "source": [
    "#### Extract"
   ]
  },
  {
   "cell_type": "code",
   "execution_count": null,
   "id": "4aa58264",
   "metadata": {},
   "outputs": [],
   "source": [
    "# Read the tables in the HTML page\n",
    "# Scrape the Data\n",
    "executable_path = {'executable_path': ChromeDriverManager().install()}\n",
    "browser = Browser('chrome', **executable_path, headless=False)\n",
    "\n",
    "url = 'https://au.finance.yahoo.com/quote/ANZ.AX/financials?p=ANZ.AX'\n",
    "browser.visit(url)\n",
    "\n",
    "time.sleep(1)\n",
    "\n",
    "html = browser.html\n",
    "soup = bs(html, \"html.parser\")\n",
    "\n",
    "# Get table headers\n",
    "income_table_headers = soup.find_all('div', class_='D(tbr) C($primaryColor)')\n",
    "# Get table rows\n",
    "income_table_rows = soup.find_all('div', class_='D(tbr) fi-row Bgc($hoverBgColor):h')\n",
    "\n",
    "# Quit the browser\n",
    "browser.quit()\n",
    "\n",
    "# Get the table headers\n",
    "table_headers_list = []\n",
    "for header in income_table_headers:\n",
    "    for span in header.find_all('span'):\n",
    "        table_headers_list.append(span.text)\n",
    "\n",
    "# Get all the table rows\n",
    "table_rows = []\n",
    "row_list = []\n",
    "for rows in income_table_rows:\n",
    "    for fields in rows:\n",
    "        row_list.append(fields.text)\n",
    "    # Add row to table rows\n",
    "    table_rows.append(row_list)\n",
    "    # Reset the row list for the next row\n",
    "    row_list = []\n",
    "    \n",
    "# Convert the result into a DataFrame\n",
    "income_table = pd.DataFrame(table_rows, columns=table_headers_list)\n",
    "income_table"
   ]
  },
  {
   "cell_type": "markdown",
   "id": "fc662d51",
   "metadata": {},
   "source": [
    "#### Transform"
   ]
  },
  {
   "cell_type": "code",
   "execution_count": null,
   "id": "5c95c6ec",
   "metadata": {},
   "outputs": [],
   "source": []
  },
  {
   "cell_type": "markdown",
   "id": "cbf194b5",
   "metadata": {},
   "source": [
    "#### Load"
   ]
  },
  {
   "cell_type": "code",
   "execution_count": null,
   "id": "b7962353",
   "metadata": {},
   "outputs": [],
   "source": []
  }
 ],
 "metadata": {
  "kernelspec": {
   "display_name": "Python 3",
   "language": "python",
   "name": "python3"
  },
  "language_info": {
   "codemirror_mode": {
    "name": "ipython",
    "version": 3
   },
   "file_extension": ".py",
   "mimetype": "text/x-python",
   "name": "python",
   "nbconvert_exporter": "python",
   "pygments_lexer": "ipython3",
   "version": "3.8.8"
  }
 },
 "nbformat": 4,
 "nbformat_minor": 5
}
