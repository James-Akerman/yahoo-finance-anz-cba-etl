{
 "cells": [
  {
   "cell_type": "markdown",
   "id": "9163f561",
   "metadata": {},
   "source": [
    "# CBA / ANZ Balance Sheet"
   ]
  },
  {
   "cell_type": "markdown",
   "id": "d5dda1b6",
   "metadata": {},
   "source": [
    "## Setup"
   ]
  },
  {
   "cell_type": "code",
   "execution_count": 1,
   "id": "8a7475a8",
   "metadata": {},
   "outputs": [],
   "source": [
    "# Import Libraries\n",
    "import time\n",
    "from datetime import datetime\n",
    "from splinter import Browser\n",
    "from bs4 import BeautifulSoup as bs\n",
    "from selenium import webdriver\n",
    "from webdriver_manager.chrome import ChromeDriverManager\n",
    "import pandas as pd\n",
    "import pymongo"
   ]
  },
  {
   "cell_type": "markdown",
   "id": "1bfb6fa7",
   "metadata": {},
   "source": [
    "## Delete collection before inserting new data"
   ]
  },
  {
   "cell_type": "code",
   "execution_count": 2,
   "id": "11b00adb",
   "metadata": {},
   "outputs": [],
   "source": [
    "conn = 'mongodb://localhost:27017'\n",
    "client = pymongo.MongoClient(conn)\n",
    "client.Stocks_db.balance_sheet.drop()"
   ]
  },
  {
   "cell_type": "markdown",
   "id": "ce76b107",
   "metadata": {},
   "source": [
    "## CBA Balance_sheet statement table"
   ]
  },
  {
   "cell_type": "code",
   "execution_count": 3,
   "id": "4508031e",
   "metadata": {},
   "outputs": [
    {
     "name": "stderr",
     "output_type": "stream",
     "text": [
      "[WDM] - \n",
      "\n",
      "[WDM] - ====== WebDriver manager ======\n",
      "[WDM] - Current google-chrome version is 95.0.4638\n",
      "[WDM] - Get LATEST driver version for 95.0.4638\n",
      "[WDM] - Driver [/Users/ziliangzhang/.wdm/drivers/chromedriver/mac64/95.0.4638.17/chromedriver] found in cache\n"
     ]
    }
   ],
   "source": [
    "############# Extract #############\n",
    "# Read the tables in the HTML page\n",
    "# Scrape the Data\n",
    "executable_path = {'executable_path': ChromeDriverManager().install()}\n",
    "browser = Browser('chrome', **executable_path, headless=False)\n",
    "\n",
    "bank='CBA'\n",
    "url = f'https://au.finance.yahoo.com/quote/{bank}.AX/balance-sheet?p={bank}.AX'\n",
    "browser.visit(url)\n",
    "\n",
    "time.sleep(1)\n",
    "\n",
    "html = browser.html\n",
    "soup = bs(html, \"html.parser\")\n",
    "\n",
    "# Get table headers\n",
    "balance_sheet_headers = soup.find_all('div', class_='D(tbr) C($primaryColor)')\n",
    "# Get table rows\n",
    "balance_sheet_rows = soup.find_all('div', class_='D(tbr) fi-row Bgc($hoverBgColor):h')\n",
    "\n",
    "# Quit the browser\n",
    "browser.quit()\n",
    "\n",
    "# Get the table headers\n",
    "table_headers_list = []\n",
    "for header in balance_sheet_headers:\n",
    "    for span in header.find_all('span'):\n",
    "        table_headers_list.append(span.text)\n",
    "\n",
    "# Get all the table rows\n",
    "table_rows = []\n",
    "row_list = []\n",
    "for rows in balance_sheet_rows:\n",
    "    for fields in rows:\n",
    "        row_list.append(fields.text)\n",
    "    # Add row to table rows\n",
    "    table_rows.append(row_list)\n",
    "    # Reset the row list for the next row\n",
    "    row_list = []\n",
    "    \n",
    "# Convert the result into a DataFrame\n",
    "balance_table = pd.DataFrame(table_rows, columns=table_headers_list)\n",
    "\n",
    "\n"
   ]
  },
  {
   "cell_type": "markdown",
   "id": "cf2d8a03",
   "metadata": {},
   "source": [
    "## Transform Data"
   ]
  },
  {
   "cell_type": "code",
   "execution_count": null,
   "id": "df5b324b",
   "metadata": {},
   "outputs": [],
   "source": []
  },
  {
   "cell_type": "code",
   "execution_count": 4,
   "id": "24443229",
   "metadata": {},
   "outputs": [],
   "source": [
    "############# Transform #############\n",
    "# Remove all the rows without values based on any of the financial year columns\n",
    "balance_table_new = balance_table[balance_table['29/06/2021']!=''].copy()\n",
    "# Replace all fields containing '-' with 0\n",
    "balance_table_new = balance_table_new.replace('-',0)\n",
    "# Set the index to Breakdown\n",
    "balance_table_new = balance_table_new.set_index('Breakdown')\n",
    "\n",
    "# Divide into series by financial year\n",
    "#2017-2018\n",
    "balance_table_new_17to18 = balance_table_new[['29/06/2018']].copy()\n",
    "#2018-2019\n",
    "balance_table_new_18to19 = balance_table_new[['29/06/2019']].copy()\n",
    "#2019-2020\n",
    "balance_table_new_19to20 = balance_table_new[['29/06/2020']].copy()\n",
    "#2020-2021\n",
    "balance_table_new_20to21 = balance_table_new[['29/06/2021']].copy()\n"
   ]
  },
  {
   "cell_type": "code",
   "execution_count": null,
   "id": "feb6b4a3",
   "metadata": {},
   "outputs": [],
   "source": []
  },
  {
   "cell_type": "code",
   "execution_count": null,
   "id": "4c3a0202",
   "metadata": {},
   "outputs": [],
   "source": []
  },
  {
   "cell_type": "markdown",
   "id": "6d17a406",
   "metadata": {},
   "source": [
    "## Load data"
   ]
  },
  {
   "cell_type": "code",
   "execution_count": 6,
   "id": "fce76730",
   "metadata": {},
   "outputs": [
    {
     "data": {
      "text/plain": [
       "<pymongo.results.InsertOneResult at 0x7fbfe00c5180>"
      ]
     },
     "execution_count": 6,
     "metadata": {},
     "output_type": "execute_result"
    }
   ],
   "source": [
    "############# Load #############\n",
    "\n",
    "conn = 'mongodb://localhost:27017'\n",
    "client = pymongo.MongoClient(conn)\n",
    "\n",
    "cba_dict = {}\n",
    "\n",
    "cba_balance_reports = {'29/06/2018':balance_table_new_17to18.to_dict()['29/06/2018'],\n",
    "                         '29/06/2019':balance_table_new_18to19.to_dict()['29/06/2019'],\n",
    "                         '29/06/2020':balance_table_new_19to20.to_dict()['29/06/2020'],\n",
    "                         '29/06/2021':balance_table_new_20to21.to_dict()['29/06/2021']\n",
    "                      }\n",
    "\n",
    "\n",
    "cba_dict[\"CBA\"] = cba_balance_reports\n",
    "\n",
    "client.stocks_db.balance_sheet.insert_one(cba_dict)\n"
   ]
  },
  {
   "cell_type": "code",
   "execution_count": null,
   "id": "75cf6270",
   "metadata": {},
   "outputs": [],
   "source": []
  },
  {
   "cell_type": "code",
   "execution_count": null,
   "id": "d9a999b8",
   "metadata": {},
   "outputs": [],
   "source": []
  },
  {
   "cell_type": "code",
   "execution_count": null,
   "id": "f9251ae7",
   "metadata": {},
   "outputs": [],
   "source": []
  },
  {
   "cell_type": "code",
   "execution_count": null,
   "id": "d5abba29",
   "metadata": {},
   "outputs": [],
   "source": []
  },
  {
   "cell_type": "markdown",
   "id": "003ad4ff",
   "metadata": {},
   "source": [
    "## ANZ Balance Sheet table"
   ]
  },
  {
   "cell_type": "markdown",
   "id": "2d7e7b19",
   "metadata": {},
   "source": [
    "## Extrat data"
   ]
  },
  {
   "cell_type": "code",
   "execution_count": 7,
   "id": "6d899a4b",
   "metadata": {},
   "outputs": [
    {
     "name": "stderr",
     "output_type": "stream",
     "text": [
      "[WDM] - \n",
      "\n",
      "[WDM] - ====== WebDriver manager ======\n",
      "[WDM] - Current google-chrome version is 95.0.4638\n",
      "[WDM] - Get LATEST driver version for 95.0.4638\n",
      "[WDM] - Driver [/Users/ziliangzhang/.wdm/drivers/chromedriver/mac64/95.0.4638.17/chromedriver] found in cache\n"
     ]
    }
   ],
   "source": [
    "# Read the tables in the HTML page\n",
    "# Scrape the Data\n",
    "executable_path = {'executable_path': ChromeDriverManager().install()}\n",
    "browser = Browser('chrome', **executable_path, headless=False)\n",
    "\n",
    "bank='ANZ'\n",
    "url = f'https://au.finance.yahoo.com/quote/{bank}.AX/balance-sheet?p={bank}.AX&.tsrc=fin-srch'\n",
    "browser.visit(url)\n",
    "\n",
    "time.sleep(1)\n",
    "\n",
    "html = browser.html\n",
    "soup = bs(html, \"html.parser\")\n",
    "\n",
    "# Get table headers\n",
    "balance_sheet_headers = soup.find_all('div', class_='D(tbr) C($primaryColor)')\n",
    "# Get table rows\n",
    "balance_sheet_rows = soup.find_all('div', class_='D(tbr) fi-row Bgc($hoverBgColor):h')\n",
    "\n",
    "# Quit the browser\n",
    "browser.quit()\n",
    "\n",
    "# Get the table headers\n",
    "table_headers_list = []\n",
    "for header in balance_sheet_headers:\n",
    "    for span in header.find_all('span'):\n",
    "        table_headers_list.append(span.text)\n",
    "\n",
    "# Get all the table rows\n",
    "table_rows = []\n",
    "row_list = []\n",
    "for rows in balance_sheet_rows:\n",
    "    for fields in rows:\n",
    "        row_list.append(fields.text)\n",
    "    # Add row to table rows\n",
    "    table_rows.append(row_list)\n",
    "    # Reset the row list for the next row\n",
    "    row_list = []\n",
    "    \n",
    "# Convert the result into a DataFrame\n",
    "balance_table = pd.DataFrame(table_rows, columns=table_headers_list)\n"
   ]
  },
  {
   "cell_type": "code",
   "execution_count": 10,
   "id": "212d8897",
   "metadata": {},
   "outputs": [],
   "source": [
    "\n",
    "# Remove all the rows without values based on any of the financial year columns\n",
    "balance_table_new = balance_table[balance_table['29/09/2020']!=''].copy()\n",
    "# Replace all fields containing '-' with 0\n",
    "balance_table_new = balance_table_new.replace('-',0)\n",
    "# Set the index to Breakdown\n",
    "balance_table_new = balance_table_new.set_index('Breakdown')\n",
    "\n",
    "# Divide into series by financial year\n",
    "#2017-2018\n",
    "balance_table_new_17to18 = balance_table_new[['29/09/2018']].copy()\n",
    "#2018-2019\n",
    "balance_table_new_18to19 = balance_table_new[['29/09/2019']].copy()\n",
    "#2019-2020\n",
    "balance_table_new_19to20 = balance_table_new[['29/09/2020']].copy()\n",
    "#2020-2021\n",
    "# balance_table_new_20to21 = balance_table_new[['29/06/2021']].copy()"
   ]
  },
  {
   "cell_type": "code",
   "execution_count": 11,
   "id": "1e29b80c",
   "metadata": {},
   "outputs": [
    {
     "data": {
      "text/plain": [
       "<pymongo.results.InsertOneResult at 0x7fc030b1fe00>"
      ]
     },
     "execution_count": 11,
     "metadata": {},
     "output_type": "execute_result"
    }
   ],
   "source": [
    "\n",
    "conn = 'mongodb://localhost:27017'\n",
    "client = pymongo.MongoClient(conn)\n",
    "\n",
    "anz_dict = {}\n",
    "balance_sheet_dict = {}\n",
    "\n",
    "anz_balance_reports = {'29/06/2018':balance_table_new_17to18.to_dict()['29/09/2018'],\n",
    "                         '29/06/2019':balance_table_new_18to19.to_dict()['29/09/2019'],\n",
    "                         '29/06/2020':balance_table_new_19to20.to_dict()['29/09/2020']\n",
    "                      }\n",
    "\n",
    "\n",
    "balance_sheet_dict[\"ANZ_Balance_Sheet\"] = anz_balance_reports\n",
    "anz_dict[\"ANZ\"] = balance_sheet_dict[\"ANZ_balance_sheet\"]\n",
    "\n",
    "client.Stocks_db.balance_sheet.insert_one(anz_dict)"
   ]
  }
 ],
 "metadata": {
  "kernelspec": {
   "display_name": "Python 3",
   "language": "python",
   "name": "python3"
  },
  "language_info": {
   "codemirror_mode": {
    "name": "ipython",
    "version": 3
   },
   "file_extension": ".py",
   "mimetype": "text/x-python",
   "name": "python",
   "nbconvert_exporter": "python",
   "pygments_lexer": "ipython3",
   "version": "3.8.8"
  }
 },
 "nbformat": 4,
 "nbformat_minor": 5
}
